{
  "cells": [
    {
      "cell_type": "code",
      "execution_count": 1,
      "metadata": {
        "id": "witje-7d4gWn"
      },
      "outputs": [],
      "source": [
        "import zipfile, glob\n",
        "from pathlib import Path\n",
        "from urllib.request import urlretrieve\n",
        "from urllib.parse import urljoin"
      ]
    },
    {
      "cell_type": "code",
      "execution_count": 4,
      "metadata": {
        "id": "1GOfWS9N4gYI"
      },
      "outputs": [],
      "source": [
        "def get_data_from_uci_edu(url:str)->None:\n",
        "    data_path = Path('data')\n",
        "    filename = data_path / url.split('/')[-1]\n",
        "\n",
        "    if not data_path.exists():\n",
        "        print('Creating directory')\n",
        "        data_path.mkdir()\n",
        "    if not filename.exists():\n",
        "        print('Downloading...', url)\n",
        "        urlretrieve(url, filename)\n",
        "\n",
        "    if filename.exists():\n",
        "        extract_dir = 'data'\n",
        "        print('Extracting files...')\n",
        "        with zipfile.ZipFile(filename) as zf:\n",
        "            zf.extractall(extract_dir)\n",
        "        for file in glob.glob(extract_dir + '/**', recursive=True):\n",
        "            print(file)\n",
        "\n",
        "    print('...DONE')\n"
      ]
    },
    {
      "cell_type": "code",
      "source": [
        "url = 'https://archive.ics.uci.edu/static/public/17/breast+cancer+wisconsin+diagnostic.zip'"
      ],
      "metadata": {
        "id": "GCgIetNv40Cx"
      },
      "execution_count": 5,
      "outputs": []
    },
    {
      "cell_type": "code",
      "source": [],
      "metadata": {
        "id": "XoQy-y7F4-kq"
      },
      "execution_count": null,
      "outputs": []
    }
  ],
  "metadata": {
    "kernelspec": {
      "display_name": "Python 3",
      "language": "python",
      "name": "python3"
    },
    "language_info": {
      "codemirror_mode": {
        "name": "ipython",
        "version": 3
      },
      "file_extension": ".py",
      "mimetype": "text/x-python",
      "name": "python",
      "nbconvert_exporter": "python",
      "pygments_lexer": "ipython3",
      "version": "3.8.5"
    },
    "colab": {
      "provenance": [],
      "toc_visible": true
    }
  },
  "nbformat": 4,
  "nbformat_minor": 0
}